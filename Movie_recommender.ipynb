{
 "cells": [
  {
   "cell_type": "code",
   "execution_count": 25,
   "id": "7b4a3592-dd0e-4091-9506-3de76825c5d9",
   "metadata": {},
   "outputs": [
    {
     "name": "stdout",
     "output_type": "stream",
     "text": [
      "\n",
      " Because you liked *Avengers: Endgame 1*, you may also like:\n",
      "\n",
      " Pulp Fiction 13\n",
      " Gladiator 22\n",
      " Forrest Gump 35\n",
      " The Social Network 39\n",
      " The Wolf of Wall Street 41\n"
     ]
    }
   ],
   "source": [
    "# Movie recommendation project \n",
    "import pandas as pd \n",
    "\n",
    "df = pd.read_csv(\"C:/Users/navee/Desktop/Naveen Raju/Job apply/Projects/Movie Recommendation System/Dataset.csv\")  \n",
    "df.head()   # seeing 1st 5 rows \n",
    "df.columns.tolist()   # list of columns \n",
    "\n",
    "from sklearn.feature_extraction.text import TfidfVectorizer\n",
    "from sklearn.metrics.pairwise import cosine_similarity\n",
    "\n",
    "\n",
    "df['description'] = df['description'].fillna(\"\")     # Fill any missing descriptions with empty string\n",
    "\n",
    "tfidf = TfidfVectorizer(stop_words='english')        # Convert text to TF-IDF matrix\n",
    "tfidf_matrix = tfidf.fit_transform(df['description'])\n",
    "\n",
    "similarity = cosine_similarity(tfidf_matrix)         # Compute cosine similarity between all movie descriptions\n",
    "\n",
    "# Function to recommend movies\n",
    "def recommend(movie_title):\n",
    "    # Convert input title to lowercase for matching\n",
    "    movie_title = movie_title.lower()\n",
    "\n",
    "    # Check if the movie exists in the DataFrame\n",
    "    if movie_title not in df['title'].str.lower().values:\n",
    "        return \" Movie not found.\"\n",
    "\n",
    "    # Get the index of the movie\n",
    "    idx = df[df['title'].str.lower() == movie_title].index[0]\n",
    "\n",
    "    # Get similarity scores and sort\n",
    "    sim_scores = list(enumerate(similarity[idx]))\n",
    "    sim_scores = sorted(sim_scores, key=lambda x: x[1], reverse=True)\n",
    "\n",
    "    # Get top 5 similar movies (excluding the first one which is the same movie)\n",
    "    top_movies = sim_scores[1:6]\n",
    "\n",
    "    # Print recommended titles\n",
    "    print(f\"\\n Because you liked *{df.iloc[idx]['title']}*, you may also like:\\n\")\n",
    "    for i, score in top_movies:\n",
    "        print(f\" {df.iloc[i]['title']}\")\n",
    "\n",
    "\n",
    "recommend(\"Inception 5\")       # u will get ouput like - movie not found \n",
    "\n",
    "recommend(\"Avengers: Endgame 1\")           # u will get 5 recommended movies similar to Jocker 3\n",
    "\n",
    "\n"
   ]
  }
 ],
 "metadata": {
  "kernelspec": {
   "display_name": "Python [conda env:base] *",
   "language": "python",
   "name": "conda-base-py"
  },
  "language_info": {
   "codemirror_mode": {
    "name": "ipython",
    "version": 3
   },
   "file_extension": ".py",
   "mimetype": "text/x-python",
   "name": "python",
   "nbconvert_exporter": "python",
   "pygments_lexer": "ipython3",
   "version": "3.12.7"
  }
 },
 "nbformat": 4,
 "nbformat_minor": 5
}
